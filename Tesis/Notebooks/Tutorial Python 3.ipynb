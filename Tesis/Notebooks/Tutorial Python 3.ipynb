{
 "cells": [
  {
   "cell_type": "code",
   "execution_count": 8,
   "metadata": {},
   "outputs": [
    {
     "name": "stdout",
     "output_type": "stream",
     "text": [
      "Hola mundo\n"
     ]
    }
   ],
   "source": [
    "print(\"Hola mundo\")\n",
    "#comentarios\n"
   ]
  },
  {
   "cell_type": "code",
   "execution_count": 2,
   "metadata": {},
   "outputs": [
    {
     "data": {
      "text/plain": [
       "5"
      ]
     },
     "execution_count": 2,
     "metadata": {},
     "output_type": "execute_result"
    }
   ],
   "source": [
    "3+2"
   ]
  },
  {
   "cell_type": "code",
   "execution_count": 3,
   "metadata": {},
   "outputs": [],
   "source": [
    "x = 3 + 2"
   ]
  },
  {
   "cell_type": "code",
   "execution_count": 4,
   "metadata": {},
   "outputs": [
    {
     "name": "stdout",
     "output_type": "stream",
     "text": [
      "5\n"
     ]
    }
   ],
   "source": [
    "print(x)"
   ]
  },
  {
   "cell_type": "code",
   "execution_count": 6,
   "metadata": {},
   "outputs": [
    {
     "name": "stdout",
     "output_type": "stream",
     "text": [
      "3\n",
      "texto\n"
     ]
    }
   ],
   "source": [
    "#dinamicamente tipado\n",
    "numero=3\n",
    "print(numero)\n",
    "numero=\"texto\"\n",
    "print(numero)"
   ]
  },
  {
   "cell_type": "code",
   "execution_count": 11,
   "metadata": {},
   "outputs": [
    {
     "name": "stdout",
     "output_type": "stream",
     "text": [
      "5020\n"
     ]
    }
   ],
   "source": [
    "numero1=\"50\"\n",
    "numero2=\"20\"\n",
    "print(numero1+numero2)\n",
    "#esto es una concatenacion de dos variables de tipo texto"
   ]
  },
  {
   "cell_type": "code",
   "execution_count": 15,
   "metadata": {},
   "outputs": [
    {
     "name": "stdout",
     "output_type": "stream",
     "text": [
      "70\n"
     ]
    }
   ],
   "source": [
    "#podemos convertir el tipo de dato a entero\n",
    "numero1 = int(\"50\")\n",
    "numero2 = int(\"20\")\n",
    "print(numero1 + numero2)"
   ]
  },
  {
   "cell_type": "code",
   "execution_count": 16,
   "metadata": {},
   "outputs": [
    {
     "name": "stdout",
     "output_type": "stream",
     "text": [
      "70.0\n"
     ]
    }
   ],
   "source": [
    "#podemos convertir el tipo de dato a decimal\n",
    "numero1 = float(\"50\")\n",
    "numero2 = float(\"20\")\n",
    "print(numero1 + numero2)"
   ]
  },
  {
   "cell_type": "code",
   "execution_count": 17,
   "metadata": {},
   "outputs": [
    {
     "ename": "ValueError",
     "evalue": "invalid literal for int() with base 10: '20.5'",
     "output_type": "error",
     "traceback": [
      "\u001b[0;31m---------------------------------------------------------------------------\u001b[0m",
      "\u001b[0;31mValueError\u001b[0m                                Traceback (most recent call last)",
      "\u001b[0;32m<ipython-input-17-1db8378f3fea>\u001b[0m in \u001b[0;36m<module>\u001b[0;34m()\u001b[0m\n\u001b[1;32m      1\u001b[0m \u001b[0;31m#no se puede transformar de decimales a enteros\u001b[0m\u001b[0;34m\u001b[0m\u001b[0;34m\u001b[0m\u001b[0m\n\u001b[0;32m----> 2\u001b[0;31m \u001b[0mint\u001b[0m\u001b[0;34m(\u001b[0m\u001b[0;34m\"20.5\"\u001b[0m\u001b[0;34m)\u001b[0m\u001b[0;34m\u001b[0m\u001b[0m\n\u001b[0m",
      "\u001b[0;31mValueError\u001b[0m: invalid literal for int() with base 10: '20.5'"
     ]
    }
   ],
   "source": [
    "#no se puede transformar de decimales a enteros\n",
    "int(\"20.5\")"
   ]
  },
  {
   "cell_type": "code",
   "execution_count": 18,
   "metadata": {},
   "outputs": [
    {
     "ename": "TypeError",
     "evalue": "must be str, not int",
     "output_type": "error",
     "traceback": [
      "\u001b[0;31m---------------------------------------------------------------------------\u001b[0m",
      "\u001b[0;31mTypeError\u001b[0m                                 Traceback (most recent call last)",
      "\u001b[0;32m<ipython-input-18-02c5f3304c00>\u001b[0m in \u001b[0;36m<module>\u001b[0;34m()\u001b[0m\n\u001b[1;32m      1\u001b[0m \u001b[0;31m#no se pueden concatenar textos con numeros\u001b[0m\u001b[0;34m\u001b[0m\u001b[0;34m\u001b[0m\u001b[0m\n\u001b[1;32m      2\u001b[0m \u001b[0mtexto\u001b[0m \u001b[0;34m=\u001b[0m \u001b[0;34m\"hola mundo\"\u001b[0m\u001b[0;34m\u001b[0m\u001b[0m\n\u001b[0;32m----> 3\u001b[0;31m \u001b[0mprint\u001b[0m\u001b[0;34m(\u001b[0m\u001b[0mtexto\u001b[0m\u001b[0;34m+\u001b[0m\u001b[0;36m3\u001b[0m\u001b[0;34m)\u001b[0m\u001b[0;34m\u001b[0m\u001b[0m\n\u001b[0m",
      "\u001b[0;31mTypeError\u001b[0m: must be str, not int"
     ]
    }
   ],
   "source": [
    "#no se pueden concatenar textos con numeros\n",
    "texto = \"hola mundo\"\n",
    "print(texto+3)"
   ]
  },
  {
   "cell_type": "code",
   "execution_count": 19,
   "metadata": {},
   "outputs": [
    {
     "name": "stdout",
     "output_type": "stream",
     "text": [
      "hola mundo3\n"
     ]
    }
   ],
   "source": [
    "#pero se puede convertir el numero a una linea de texto \"str\"\n",
    "print(texto+str(3))"
   ]
  },
  {
   "cell_type": "code",
   "execution_count": 20,
   "metadata": {},
   "outputs": [
    {
     "name": "stdout",
     "output_type": "stream",
     "text": [
      "HOLA MUNDO\n",
      "hola mundo\n"
     ]
    }
   ],
   "source": [
    "#conversion de texto a mayusculas y minusculas\n",
    "texto = \"Hola Mundo\"\n",
    "texto = texto.upper()\n",
    "print(texto)\n",
    "texto = texto.lower()\n",
    "print(texto)"
   ]
  },
  {
   "cell_type": "code",
   "execution_count": 23,
   "metadata": {},
   "outputs": [
    {
     "name": "stdout",
     "output_type": "stream",
     "text": [
      "False\n"
     ]
    }
   ],
   "source": [
    "#variables de tipo booleano preguntando si una variable es de tipo numerico\n",
    "print(texto.isnumeric())"
   ]
  },
  {
   "cell_type": "code",
   "execution_count": 24,
   "metadata": {},
   "outputs": [
    {
     "name": "stdout",
     "output_type": "stream",
     "text": [
      "Hol4 Mundo\n"
     ]
    }
   ],
   "source": [
    "#se pueden reemplazar caracteres de un texto por numeros\n",
    "texto = \"Hola Mundo\"\n",
    "texto = texto.replace(\"a\",\"4\")\n",
    "print(texto)"
   ]
  },
  {
   "cell_type": "code",
   "execution_count": 28,
   "metadata": {},
   "outputs": [
    {
     "name": "stdout",
     "output_type": "stream",
     "text": [
      "Hol\n",
      "4 Mundo\n"
     ]
    }
   ],
   "source": [
    "#se pueden obtener caracteres especificos de una cadena de texto\n",
    "print(texto[0:3])#empieza a contar desde cero\n",
    "print(texto[3:])#esto es de la posicion 3 al final"
   ]
  },
  {
   "cell_type": "markdown",
   "metadata": {},
   "source": [
    "# condicionales"
   ]
  },
  {
   "cell_type": "code",
   "execution_count": 29,
   "metadata": {},
   "outputs": [
    {
     "name": "stdout",
     "output_type": "stream",
     "text": [
      "Es menor de edad\n"
     ]
    }
   ],
   "source": [
    "edad = 17\n",
    "\n",
    "if edad >= 18:\n",
    "    mensaje = \"Es mayor de edad\"\n",
    "else:\n",
    "    mensaje = \"Es menor de edad\"\n",
    "\n",
    "print(mensaje)"
   ]
  },
  {
   "cell_type": "code",
   "execution_count": 31,
   "metadata": {},
   "outputs": [
    {
     "name": "stdout",
     "output_type": "stream",
     "text": [
      "17\n"
     ]
    },
    {
     "ename": "TypeError",
     "evalue": "'>=' not supported between instances of 'str' and 'int'",
     "output_type": "error",
     "traceback": [
      "\u001b[0;31m---------------------------------------------------------------------------\u001b[0m",
      "\u001b[0;31mTypeError\u001b[0m                                 Traceback (most recent call last)",
      "\u001b[0;32m<ipython-input-31-1d764ea22a42>\u001b[0m in \u001b[0;36m<module>\u001b[0;34m()\u001b[0m\n\u001b[1;32m      2\u001b[0m \u001b[0medad\u001b[0m \u001b[0;34m=\u001b[0m \u001b[0minput\u001b[0m\u001b[0;34m(\u001b[0m\u001b[0;34m)\u001b[0m\u001b[0;31m#esto es una entrada de teclado\u001b[0m\u001b[0;34m\u001b[0m\u001b[0m\n\u001b[1;32m      3\u001b[0m \u001b[0;34m\u001b[0m\u001b[0m\n\u001b[0;32m----> 4\u001b[0;31m \u001b[0;32mif\u001b[0m \u001b[0medad\u001b[0m \u001b[0;34m>=\u001b[0m \u001b[0;36m18\u001b[0m\u001b[0;34m:\u001b[0m\u001b[0;34m\u001b[0m\u001b[0m\n\u001b[0m\u001b[1;32m      5\u001b[0m     \u001b[0mmensaje\u001b[0m \u001b[0;34m=\u001b[0m \u001b[0;34m\"Es mayor de edad\"\u001b[0m\u001b[0;34m\u001b[0m\u001b[0m\n\u001b[1;32m      6\u001b[0m \u001b[0;32melse\u001b[0m\u001b[0;34m:\u001b[0m\u001b[0;34m\u001b[0m\u001b[0m\n",
      "\u001b[0;31mTypeError\u001b[0m: '>=' not supported between instances of 'str' and 'int'"
     ]
    }
   ],
   "source": [
    "#podemos hacer que edad sea una entrada de teclado\n",
    "edad = input()#esto es una entrada de teclado\n",
    "\n",
    "if edad >= 18:\n",
    "    mensaje = \"Es mayor de edad\"\n",
    "else:\n",
    "    mensaje = \"Es menor de edad\"\n",
    "\n",
    "print(mensaje)\n",
    "\n",
    "#Esto nos arroja un error porque input() lo que obtiene es una linea de texto, que no puede ser comparada con un numero, para esto lo que hacemos es convertir el input a una variable de tipo numerica"
   ]
  },
  {
   "cell_type": "code",
   "execution_count": 33,
   "metadata": {},
   "outputs": [
    {
     "name": "stdout",
     "output_type": "stream",
     "text": [
      "Cuál es tu edad?\n",
      "16\n",
      "Es menor de edad\n"
     ]
    }
   ],
   "source": [
    "print(\"Cuál es tu edad?\")\n",
    "edad = int(input())#esto es una entrada de teclado que es convertida a una variable de tipo numerica\n",
    "\n",
    "\n",
    "if edad >= 18:\n",
    "    mensaje = \"Es mayor de edad\"\n",
    "else:\n",
    "    mensaje = \"Es menor de edad\"\n",
    "\n",
    "print(mensaje)"
   ]
  },
  {
   "cell_type": "code",
   "execution_count": 34,
   "metadata": {},
   "outputs": [
    {
     "name": "stdout",
     "output_type": "stream",
     "text": [
      "Cuál es tu edad?\n",
      "-1\n",
      "Edad no válida\n"
     ]
    }
   ],
   "source": [
    "#podemos meter condiciones else if en medio con la sintaxis elif\n",
    "print(\"Cuál es tu edad?\")\n",
    "edad = int(input()) \n",
    "\n",
    "\n",
    "if edad >= 18:\n",
    "    mensaje = \"Es mayor de edad\"\n",
    "elif edad <0:\n",
    "    mensaje = \"Edad no válida\"\n",
    "else:\n",
    "    mensaje = \"Es menor de edad\"\n",
    "\n",
    "print(mensaje)"
   ]
  },
  {
   "cell_type": "code",
   "execution_count": 35,
   "metadata": {},
   "outputs": [
    {
     "ename": "TypeError",
     "evalue": "must be str, not int",
     "output_type": "error",
     "traceback": [
      "\u001b[0;31m---------------------------------------------------------------------------\u001b[0m",
      "\u001b[0;31mTypeError\u001b[0m                                 Traceback (most recent call last)",
      "\u001b[0;32m<ipython-input-35-358515e9d3e2>\u001b[0m in \u001b[0;36m<module>\u001b[0;34m()\u001b[0m\n\u001b[1;32m      1\u001b[0m \u001b[0;32mfor\u001b[0m \u001b[0mi\u001b[0m \u001b[0;32min\u001b[0m \u001b[0mrange\u001b[0m\u001b[0;34m(\u001b[0m\u001b[0;36m0\u001b[0m\u001b[0;34m,\u001b[0m\u001b[0;36m5\u001b[0m\u001b[0;34m)\u001b[0m\u001b[0;34m:\u001b[0m\u001b[0;34m\u001b[0m\u001b[0m\n\u001b[0;32m----> 2\u001b[0;31m     \u001b[0mprint\u001b[0m\u001b[0;34m(\u001b[0m\u001b[0;34m\"Iteracion N°\"\u001b[0m \u001b[0;34m+\u001b[0m \u001b[0mi\u001b[0m\u001b[0;34m)\u001b[0m\u001b[0;34m\u001b[0m\u001b[0m\n\u001b[0m",
      "\u001b[0;31mTypeError\u001b[0m: must be str, not int"
     ]
    }
   ],
   "source": [
    "for i in range(0,5):\n",
    "    print(\"Iteracion N°\" + i)\n",
    "#nuevamente, no se puede concatenar una linea de texto con un numero"
   ]
  },
  {
   "cell_type": "code",
   "execution_count": 36,
   "metadata": {},
   "outputs": [
    {
     "name": "stdout",
     "output_type": "stream",
     "text": [
      "Iteracion N°0\n",
      "Iteracion N°1\n",
      "Iteracion N°2\n",
      "Iteracion N°3\n",
      "Iteracion N°4\n"
     ]
    }
   ],
   "source": [
    "for i in range(0,5):\n",
    "    print(\"Iteracion N°\" + str(i))"
   ]
  },
  {
   "cell_type": "code",
   "execution_count": 37,
   "metadata": {},
   "outputs": [
    {
     "name": "stdout",
     "output_type": "stream",
     "text": [
      "Iteracion N°0\n",
      "Iteracion N°1\n",
      "Iteracion N°2\n"
     ]
    }
   ],
   "source": [
    "for i in range(3):\n",
    "    print(\"Iteracion N°\" + str(i))"
   ]
  },
  {
   "cell_type": "code",
   "execution_count": 38,
   "metadata": {},
   "outputs": [
    {
     "name": "stdout",
     "output_type": "stream",
     "text": [
      "Iteracion N°4\n"
     ]
    }
   ],
   "source": [
    "for i in range(4,5):\n",
    "    print(\"Iteracion N°\" + str(i))"
   ]
  },
  {
   "cell_type": "code",
   "execution_count": 39,
   "metadata": {},
   "outputs": [
    {
     "name": "stdout",
     "output_type": "stream",
     "text": [
      "Iteracion N°2\n",
      "Iteracion N°3\n",
      "Iteracion N°4\n"
     ]
    }
   ],
   "source": [
    "for i in range(2,5):\n",
    "    print(\"Iteracion N°\" + str(i))"
   ]
  },
  {
   "cell_type": "code",
   "execution_count": 40,
   "metadata": {},
   "outputs": [
    {
     "name": "stdout",
     "output_type": "stream",
     "text": [
      "Iteración N°0\n",
      "Se cortó la iteración\n"
     ]
    }
   ],
   "source": [
    "#uso de break para cortar la iteracion\n",
    "\n",
    "for x in range(3):\n",
    "    if x == 1: \n",
    "        print(\"Se cortó la iteración\")\n",
    "        break #aqui cortamos en la iteracion 1\n",
    "    print(\"Iteración N°\"+str(x))\n",
    "    "
   ]
  },
  {
   "cell_type": "code",
   "execution_count": 41,
   "metadata": {},
   "outputs": [
    {
     "name": "stdout",
     "output_type": "stream",
     "text": [
      "Iteración N°0\n",
      "Se cortó la iteración\n",
      "Iteración N°2\n"
     ]
    }
   ],
   "source": [
    "# tambien podemos hacer que se salte la iteracion especifica y contnua en la siguientes\n",
    "\n",
    "for x in range(3):\n",
    "    if x == 1: \n",
    "        continue\n",
    "    print(\"Iteración N°\"+str(x))\n",
    "    "
   ]
  },
  {
   "cell_type": "code",
   "execution_count": 43,
   "metadata": {},
   "outputs": [
    {
     "name": "stdout",
     "output_type": "stream",
     "text": [
      "H\n",
      "o\n",
      "l\n",
      "a\n",
      " \n",
      "M\n",
      "u\n",
      "n\n",
      "d\n",
      "o\n"
     ]
    }
   ],
   "source": [
    "#podemos recorrer rangos de numeros o podemos recorrer lineas de texto\n",
    "for x in \"Hola Mundo\":\n",
    "    print(x)"
   ]
  },
  {
   "cell_type": "code",
   "execution_count": 45,
   "metadata": {},
   "outputs": [
    {
     "name": "stdout",
     "output_type": "stream",
     "text": [
      "H o l a   M u n d o "
     ]
    }
   ],
   "source": [
    "#podemos poner un espacio si queremos entre cada lina de texto\n",
    "for x in \"Hola Mundo\":\n",
    "    print(x,end= \" \")# esto es un espacio entre cada letra"
   ]
  },
  {
   "cell_type": "code",
   "execution_count": 46,
   "metadata": {},
   "outputs": [
    {
     "name": "stdout",
     "output_type": "stream",
     "text": [
      "Hxyzoxyzlxyzaxyz xyzMxyzuxyznxyzdxyzoxyz"
     ]
    }
   ],
   "source": [
    "for x in \"Hola Mundo\":\n",
    "    print(x,end= \"xyz\")#podemos poner el texto que se desee entre cada linea"
   ]
  },
  {
   "cell_type": "code",
   "execution_count": 47,
   "metadata": {},
   "outputs": [
    {
     "name": "stdout",
     "output_type": "stream",
     "text": [
      "H\n",
      "o\n",
      "l\n",
      "a\n",
      " \n",
      "M\n",
      "u\n",
      "n\n",
      "d\n",
      "o\n"
     ]
    }
   ],
   "source": [
    "for x in \"Hola Mundo\":\n",
    "    print(x,end= \"\\n\")#tambien podemos usar este caracter de escape"
   ]
  },
  {
   "cell_type": "code",
   "execution_count": 49,
   "metadata": {},
   "outputs": [
    {
     "name": "stdout",
     "output_type": "stream",
     "text": [
      "H\n",
      "Es un número\n",
      "0\n",
      "l\n",
      "Es un número\n",
      "4\n",
      " \n",
      "M\n",
      "u\n",
      "n\n",
      "d\n",
      "Es un número\n",
      "0\n"
     ]
    }
   ],
   "source": [
    "#tambien se puede comprobar si dentreo de la linea de texto se contiene un digito\n",
    "for x in \"H0l4 Mund0\":\n",
    "    if x.isdigit():\n",
    "        print(\"Es un número\")\n",
    "    print(x, end=\"\\n\")"
   ]
  },
  {
   "cell_type": "code",
   "execution_count": 52,
   "metadata": {},
   "outputs": [
    {
     "name": "stdout",
     "output_type": "stream",
     "text": [
      "Iteracion N°0\n",
      "Iteracion N°1\n",
      "Entro al inf\n",
      "Iteracion N°2\n",
      "Luego del for\n"
     ]
    }
   ],
   "source": [
    "# se puede poner una variante del for,  que es un elese al final que va a entrar a trabjar al final del for\n",
    "for x in range(3):\n",
    "    print(\"Iteracion N°\"+str(x))\n",
    "    if x==1:\n",
    "        print(\"Entro al inf\")\n",
    "else:\n",
    "    print(\"Luego del for\")"
   ]
  },
  {
   "cell_type": "code",
   "execution_count": 53,
   "metadata": {},
   "outputs": [
    {
     "name": "stdout",
     "output_type": "stream",
     "text": [
      "Iteracion N°0\n",
      "Iteracion N°1\n"
     ]
    }
   ],
   "source": [
    "#el else, no funciona si se utiliza un break para salir del for\n",
    "for x in range(3):\n",
    "    print(\"Iteracion N°\"+str(x))\n",
    "    if x==1:\n",
    "        break\n",
    "else:\n",
    "    print(\"Luego del for\")"
   ]
  },
  {
   "cell_type": "code",
   "execution_count": 57,
   "metadata": {},
   "outputs": [
    {
     "name": "stdout",
     "output_type": "stream",
     "text": [
      "Iteracion N°0\n",
      "Es menor a 5\n",
      "Iteracion N°1\n",
      "Es menor a 5\n",
      "Iteracion N°2\n",
      "Es menor a 5\n",
      "En la iteracion\n",
      "Iteracion N°3\n",
      "Es menor a 5\n",
      "Iteracion N°4\n",
      "Es menor a 5\n",
      "Fin de las iteraciones\n"
     ]
    }
   ],
   "source": [
    "contador = 0\n",
    "while contador <5:\n",
    "    print(\"Iteracion N°\"+str(contador))\n",
    "    print(\"Es menor a 5\")\n",
    "    contador += 1\n",
    "    if contador ==3:\n",
    "        print(\"En la iteracion\")\n",
    "else:\n",
    "    print(\"Fin de las iteraciones\")"
   ]
  },
  {
   "cell_type": "code",
   "execution_count": 58,
   "metadata": {},
   "outputs": [
    {
     "name": "stdout",
     "output_type": "stream",
     "text": [
      "Iteracion N°0\n",
      "Es menor a 5\n",
      "Iteracion N°1\n",
      "Es menor a 5\n",
      "Iteracion N°2\n",
      "Es menor a 5\n",
      "En la iteracion\n"
     ]
    }
   ],
   "source": [
    "#de nuevo si se pone un break despues de un if el ultimo else ya no se va a tomar en cuenta\n",
    "contador = 0\n",
    "while contador <5:\n",
    "    print(\"Iteracion N°\"+str(contador))\n",
    "    print(\"Es menor a 5\")\n",
    "    contador += 1\n",
    "    if contador ==3:\n",
    "        print(\"En la iteracion\")\n",
    "        break\n",
    "else:\n",
    "    print(\"Fin de las iteraciones\")"
   ]
  },
  {
   "cell_type": "code",
   "execution_count": null,
   "metadata": {},
   "outputs": [],
   "source": []
  }
 ],
 "metadata": {
  "kernelspec": {
   "display_name": "Python 3",
   "language": "python",
   "name": "python3"
  },
  "language_info": {
   "codemirror_mode": {
    "name": "ipython",
    "version": 3
   },
   "file_extension": ".py",
   "mimetype": "text/x-python",
   "name": "python",
   "nbconvert_exporter": "python",
   "pygments_lexer": "ipython3",
   "version": "3.6.5"
  }
 },
 "nbformat": 4,
 "nbformat_minor": 2
}
