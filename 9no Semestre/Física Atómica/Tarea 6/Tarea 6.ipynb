{
 "cells": [
  {
   "cell_type": "markdown",
   "metadata": {},
   "source": [
    "## Ejercicio 1"
   ]
  },
  {
   "cell_type": "code",
   "execution_count": 1,
   "metadata": {},
   "outputs": [
    {
     "data": {
      "text/plain": [
       "Plots.GRBackend()"
      ]
     },
     "execution_count": 1,
     "metadata": {},
     "output_type": "execute_result"
    }
   ],
   "source": [
    "using Plots\n",
    "gr()"
   ]
  },
  {
   "cell_type": "code",
   "execution_count": 113,
   "metadata": {},
   "outputs": [
    {
     "data": {
      "text/plain": [
       "1.5707963267948966"
      ]
     },
     "execution_count": 113,
     "metadata": {},
     "output_type": "execute_result"
    }
   ],
   "source": [
    "\n",
    "n = 0\n",
    "w = 10\n",
    "a = 1\n",
    "t = 10\n",
    "k = π/(2*a)"
   ]
  },
  {
   "cell_type": "code",
   "execution_count": 114,
   "metadata": {},
   "outputs": [
    {
     "data": {
      "text/plain": [
       "y (generic function with 1 method)"
      ]
     },
     "execution_count": 114,
     "metadata": {},
     "output_type": "execute_result"
    }
   ],
   "source": [
    "f(n) = cos(w*t-k*n*a)\n",
    "y(n) = cos(w*t-(k+((2*π)/a))*n*a)"
   ]
  },
  {
   "cell_type": "code",
   "execution_count": 118,
   "metadata": {},
   "outputs": [
    {
     "data": {
      "text/html": [
       "<?xml version=\"1.0\" encoding=\"utf-8\"?>\n",
       "<svg xmlns=\"http://www.w3.org/2000/svg\" xmlns:xlink=\"http://www.w3.org/1999/xlink\" width=\"600\" height=\"400\" viewBox=\"0 0 600 400\">\n",
       "<defs>\n",
       "  <clipPath id=\"clip8600\">\n",
       "    <rect x=\"0\" y=\"0\" width=\"600\" height=\"400\"/>\n",
       "  </clipPath>\n",
       "</defs>\n",
       "<polygon clip-path=\"url(#clip8600)\" points=\"\n",
       "0,400 600,400 600,0 0,0 \n",
       "  \" fill=\"#ffffff\" fill-opacity=\"1\"/>\n",
       "<defs>\n",
       "  <clipPath id=\"clip8601\">\n",
       "    <rect x=\"120\" y=\"0\" width=\"421\" height=\"400\"/>\n",
       "  </clipPath>\n",
       "</defs>\n",
       "<polygon clip-path=\"url(#clip8600)\" points=\"\n",
       "55.25,360.121 580.315,360.121 580.315,11.811 55.25,11.811 \n",
       "  \" fill=\"#ffffff\" fill-opacity=\"1\"/>\n",
       "<defs>\n",
       "  <clipPath id=\"clip8602\">\n",
       "    <rect x=\"55\" y=\"11\" width=\"526\" height=\"349\"/>\n",
       "  </clipPath>\n",
       "</defs>\n",
       "<polyline clip-path=\"url(#clip8602)\" style=\"stroke:#000000; stroke-width:0.5; stroke-opacity:0.1; fill:none\" points=\"\n",
       "  77.7773,360.121 77.7773,11.811 \n",
       "  \"/>\n",
       "<polyline clip-path=\"url(#clip8602)\" style=\"stroke:#000000; stroke-width:0.5; stroke-opacity:0.1; fill:none\" points=\"\n",
       "  166.59,360.121 166.59,11.811 \n",
       "  \"/>\n",
       "<polyline clip-path=\"url(#clip8602)\" style=\"stroke:#000000; stroke-width:0.5; stroke-opacity:0.1; fill:none\" points=\"\n",
       "  255.402,360.121 255.402,11.811 \n",
       "  \"/>\n",
       "<polyline clip-path=\"url(#clip8602)\" style=\"stroke:#000000; stroke-width:0.5; stroke-opacity:0.1; fill:none\" points=\"\n",
       "  344.214,360.121 344.214,11.811 \n",
       "  \"/>\n",
       "<polyline clip-path=\"url(#clip8602)\" style=\"stroke:#000000; stroke-width:0.5; stroke-opacity:0.1; fill:none\" points=\"\n",
       "  433.026,360.121 433.026,11.811 \n",
       "  \"/>\n",
       "<polyline clip-path=\"url(#clip8602)\" style=\"stroke:#000000; stroke-width:0.5; stroke-opacity:0.1; fill:none\" points=\"\n",
       "  521.839,360.121 521.839,11.811 \n",
       "  \"/>\n",
       "<polyline clip-path=\"url(#clip8602)\" style=\"stroke:#000000; stroke-width:0.5; stroke-opacity:0.1; fill:none\" points=\"\n",
       "  55.25,350.263 580.315,350.263 \n",
       "  \"/>\n",
       "<polyline clip-path=\"url(#clip8602)\" style=\"stroke:#000000; stroke-width:0.5; stroke-opacity:0.1; fill:none\" points=\"\n",
       "  55.25,268.114 580.315,268.114 \n",
       "  \"/>\n",
       "<polyline clip-path=\"url(#clip8602)\" style=\"stroke:#000000; stroke-width:0.5; stroke-opacity:0.1; fill:none\" points=\"\n",
       "  55.25,185.966 580.315,185.966 \n",
       "  \"/>\n",
       "<polyline clip-path=\"url(#clip8602)\" style=\"stroke:#000000; stroke-width:0.5; stroke-opacity:0.1; fill:none\" points=\"\n",
       "  55.25,103.817 580.315,103.817 \n",
       "  \"/>\n",
       "<polyline clip-path=\"url(#clip8602)\" style=\"stroke:#000000; stroke-width:0.5; stroke-opacity:0.1; fill:none\" points=\"\n",
       "  55.25,21.6688 580.315,21.6688 \n",
       "  \"/>\n",
       "<polyline clip-path=\"url(#clip8600)\" style=\"stroke:#000000; stroke-width:1; stroke-opacity:1; fill:none\" points=\"\n",
       "  55.25,360.121 580.315,360.121 \n",
       "  \"/>\n",
       "<polyline clip-path=\"url(#clip8600)\" style=\"stroke:#000000; stroke-width:1; stroke-opacity:1; fill:none\" points=\"\n",
       "  55.25,360.121 55.25,11.811 \n",
       "  \"/>\n",
       "<polyline clip-path=\"url(#clip8600)\" style=\"stroke:#000000; stroke-width:1; stroke-opacity:1; fill:none\" points=\"\n",
       "  77.7773,360.121 77.7773,354.896 \n",
       "  \"/>\n",
       "<polyline clip-path=\"url(#clip8600)\" style=\"stroke:#000000; stroke-width:1; stroke-opacity:1; fill:none\" points=\"\n",
       "  166.59,360.121 166.59,354.896 \n",
       "  \"/>\n",
       "<polyline clip-path=\"url(#clip8600)\" style=\"stroke:#000000; stroke-width:1; stroke-opacity:1; fill:none\" points=\"\n",
       "  255.402,360.121 255.402,354.896 \n",
       "  \"/>\n",
       "<polyline clip-path=\"url(#clip8600)\" style=\"stroke:#000000; stroke-width:1; stroke-opacity:1; fill:none\" points=\"\n",
       "  344.214,360.121 344.214,354.896 \n",
       "  \"/>\n",
       "<polyline clip-path=\"url(#clip8600)\" style=\"stroke:#000000; stroke-width:1; stroke-opacity:1; fill:none\" points=\"\n",
       "  433.026,360.121 433.026,354.896 \n",
       "  \"/>\n",
       "<polyline clip-path=\"url(#clip8600)\" style=\"stroke:#000000; stroke-width:1; stroke-opacity:1; fill:none\" points=\"\n",
       "  521.839,360.121 521.839,354.896 \n",
       "  \"/>\n",
       "<polyline clip-path=\"url(#clip8600)\" style=\"stroke:#000000; stroke-width:1; stroke-opacity:1; fill:none\" points=\"\n",
       "  55.25,350.263 63.126,350.263 \n",
       "  \"/>\n",
       "<polyline clip-path=\"url(#clip8600)\" style=\"stroke:#000000; stroke-width:1; stroke-opacity:1; fill:none\" points=\"\n",
       "  55.25,268.114 63.126,268.114 \n",
       "  \"/>\n",
       "<polyline clip-path=\"url(#clip8600)\" style=\"stroke:#000000; stroke-width:1; stroke-opacity:1; fill:none\" points=\"\n",
       "  55.25,185.966 63.126,185.966 \n",
       "  \"/>\n",
       "<polyline clip-path=\"url(#clip8600)\" style=\"stroke:#000000; stroke-width:1; stroke-opacity:1; fill:none\" points=\"\n",
       "  55.25,103.817 63.126,103.817 \n",
       "  \"/>\n",
       "<polyline clip-path=\"url(#clip8600)\" style=\"stroke:#000000; stroke-width:1; stroke-opacity:1; fill:none\" points=\"\n",
       "  55.25,21.6688 63.126,21.6688 \n",
       "  \"/>\n",
       "<g clip-path=\"url(#clip8600)\">\n",
       "<text style=\"fill:#000000; fill-opacity:1; font-family:Arial,Helvetica Neue,Helvetica,sans-serif; font-size:12; text-anchor:middle;\" transform=\"rotate(0, 77.7773, 373.921)\" x=\"77.7773\" y=\"373.921\">0</text>\n",
       "</g>\n",
       "<g clip-path=\"url(#clip8600)\">\n",
       "<text style=\"fill:#000000; fill-opacity:1; font-family:Arial,Helvetica Neue,Helvetica,sans-serif; font-size:12; text-anchor:middle;\" transform=\"rotate(0, 166.59, 373.921)\" x=\"166.59\" y=\"373.921\">1</text>\n",
       "</g>\n",
       "<g clip-path=\"url(#clip8600)\">\n",
       "<text style=\"fill:#000000; fill-opacity:1; font-family:Arial,Helvetica Neue,Helvetica,sans-serif; font-size:12; text-anchor:middle;\" transform=\"rotate(0, 255.402, 373.921)\" x=\"255.402\" y=\"373.921\">2</text>\n",
       "</g>\n",
       "<g clip-path=\"url(#clip8600)\">\n",
       "<text style=\"fill:#000000; fill-opacity:1; font-family:Arial,Helvetica Neue,Helvetica,sans-serif; font-size:12; text-anchor:middle;\" transform=\"rotate(0, 344.214, 373.921)\" x=\"344.214\" y=\"373.921\">3</text>\n",
       "</g>\n",
       "<g clip-path=\"url(#clip8600)\">\n",
       "<text style=\"fill:#000000; fill-opacity:1; font-family:Arial,Helvetica Neue,Helvetica,sans-serif; font-size:12; text-anchor:middle;\" transform=\"rotate(0, 433.026, 373.921)\" x=\"433.026\" y=\"373.921\">4</text>\n",
       "</g>\n",
       "<g clip-path=\"url(#clip8600)\">\n",
       "<text style=\"fill:#000000; fill-opacity:1; font-family:Arial,Helvetica Neue,Helvetica,sans-serif; font-size:12; text-anchor:middle;\" transform=\"rotate(0, 521.839, 373.921)\" x=\"521.839\" y=\"373.921\">5</text>\n",
       "</g>\n",
       "<g clip-path=\"url(#clip8600)\">\n",
       "<text style=\"fill:#000000; fill-opacity:1; font-family:Arial,Helvetica Neue,Helvetica,sans-serif; font-size:12; text-anchor:end;\" transform=\"rotate(0, 49.25, 354.763)\" x=\"49.25\" y=\"354.763\">-1.0</text>\n",
       "</g>\n",
       "<g clip-path=\"url(#clip8600)\">\n",
       "<text style=\"fill:#000000; fill-opacity:1; font-family:Arial,Helvetica Neue,Helvetica,sans-serif; font-size:12; text-anchor:end;\" transform=\"rotate(0, 49.25, 272.614)\" x=\"49.25\" y=\"272.614\">-0.5</text>\n",
       "</g>\n",
       "<g clip-path=\"url(#clip8600)\">\n",
       "<text style=\"fill:#000000; fill-opacity:1; font-family:Arial,Helvetica Neue,Helvetica,sans-serif; font-size:12; text-anchor:end;\" transform=\"rotate(0, 49.25, 190.466)\" x=\"49.25\" y=\"190.466\">0.0</text>\n",
       "</g>\n",
       "<g clip-path=\"url(#clip8600)\">\n",
       "<text style=\"fill:#000000; fill-opacity:1; font-family:Arial,Helvetica Neue,Helvetica,sans-serif; font-size:12; text-anchor:end;\" transform=\"rotate(0, 49.25, 108.317)\" x=\"49.25\" y=\"108.317\">0.5</text>\n",
       "</g>\n",
       "<g clip-path=\"url(#clip8600)\">\n",
       "<text style=\"fill:#000000; fill-opacity:1; font-family:Arial,Helvetica Neue,Helvetica,sans-serif; font-size:12; text-anchor:end;\" transform=\"rotate(0, 49.25, 26.1688)\" x=\"49.25\" y=\"26.1688\">1.0</text>\n",
       "</g>\n",
       "<g clip-path=\"url(#clip8600)\">\n",
       "<text style=\"fill:#000000; fill-opacity:1; font-family:Arial,Helvetica Neue,Helvetica,sans-serif; font-size:16; text-anchor:middle;\" transform=\"rotate(0, 317.783, 397.6)\" x=\"317.783\" y=\"397.6\">a</text>\n",
       "</g>\n",
       "<g clip-path=\"url(#clip8600)\">\n",
       "<text style=\"fill:#000000; fill-opacity:1; font-family:Arial,Helvetica Neue,Helvetica,sans-serif; font-size:16; text-anchor:middle;\" transform=\"rotate(-90, 14.4, 185.966)\" x=\"14.4\" y=\"185.966\">delta x_n</text>\n",
       "</g>\n",
       "<polyline clip-path=\"url(#clip8602)\" style=\"stroke:#0000ff; stroke-width:2; stroke-opacity:1; fill:none\" stroke-dasharray=\"1, 2\" points=\"\n",
       "  70.1104,34.3431 71.3246,35.737 72.5389,37.2001 73.7531,38.7318 79.3669,46.684 84.9807,56.0083 90.5944,66.6126 96.2082,78.3926 101.822,91.2322 107.436,105.005 \n",
       "  113.05,119.575 118.663,134.799 132.158,173.16 145.652,212.248 157.062,244.22 168.471,273.829 174.668,288.487 180.865,301.915 187.062,313.952 193.259,324.453 \n",
       "  198.972,332.664 204.685,339.378 210.398,344.528 216.111,348.06 222.236,350.009 228.361,350.035 234.486,348.137 240.611,344.338 244.159,341.285 247.708,337.619 \n",
       "  251.256,333.357 254.804,328.514 258.352,323.11 261.9,317.167 265.449,310.706 268.997,303.755 275.303,290.274 281.61,275.496 287.916,259.606 294.222,242.8 \n",
       "  305.283,211.752 316.343,179.721 328.402,145.111 340.461,112.353 346.526,97.0499 352.591,82.7688 358.656,69.6741 364.721,57.9164 371.427,46.6353 378.133,37.3119 \n",
       "  381.486,33.4264 384.839,30.0771 388.192,27.276 391.545,25.0327 394.735,23.4235 397.925,22.3317 401.116,21.7606 404.306,21.7123 407.496,22.1867 410.686,23.1824 \n",
       "  413.877,24.6962 417.067,26.7234 420.384,29.3685 423.701,32.5525 427.018,36.2644 430.335,40.4914 436.969,50.4309 443.604,62.2343 449.188,73.4967 454.773,85.8554 \n",
       "  460.357,99.19 465.942,113.37 479.578,150.675 493.214,190.023 506.033,226.839 518.851,261.562 523.985,274.479 529.12,286.665 534.254,298.023 539.388,308.456 \n",
       "  544.522,317.881 549.656,326.219 554.79,333.4 559.924,339.368 561.504,340.952 563.084,342.415 564.665,343.756 \n",
       "  \"/>\n",
       "<polyline clip-path=\"url(#clip8602)\" style=\"stroke:#ff0000; stroke-width:1; stroke-opacity:1; fill:none\" points=\"\n",
       "  70.1104,23.442 71.3246,21.7981 72.5389,22.0453 73.7531,24.1808 74.4549,26.2671 75.1566,28.9682 75.8583,32.2737 76.56,36.1708 77.2617,40.6446 77.9635,45.6779 \n",
       "  78.6652,51.2512 79.3669,57.3431 80.7703,70.987 82.1738,86.3998 83.5772,103.344 84.9807,121.56 87.7876,160.668 90.5944,201.326 91.9979,221.458 93.4013,241.044 \n",
       "  94.8048,259.782 96.2082,277.385 97.6116,293.581 99.0151,308.122 99.7168,314.7 100.419,320.783 101.12,326.347 101.822,331.371 102.524,335.835 103.225,339.721 \n",
       "  103.927,343.016 104.629,345.707 105.331,347.782 106.032,349.235 106.734,350.059 107.436,350.251 108.137,349.811 108.839,348.74 109.541,347.042 110.243,344.724 \n",
       "  110.944,341.796 111.646,338.267 112.348,334.152 113.05,329.466 114.453,318.458 115.856,305.412 116.558,298.186 117.26,290.528 117.962,282.467 118.663,274.035 \n",
       "  120.35,252.444 122.037,229.376 123.724,205.344 125.411,180.882 127.097,156.532 128.784,132.837 130.471,110.321 132.158,89.4855 133.001,79.8441 133.845,70.7928 \n",
       "  134.688,62.382 135.531,54.6583 136.375,47.6647 137.218,41.4402 138.062,36.0193 138.905,31.4322 139.749,27.7043 140.592,24.8564 141.435,22.9044 142.279,21.8591 \n",
       "  143.122,21.7263 143.966,22.5067 144.809,24.1961 145.652,26.7849 146.365,29.6651 147.079,33.1665 147.792,37.2754 148.505,41.9754 149.218,47.2479 149.931,53.0718 \n",
       "  150.644,59.424 151.357,66.2792 152.783,81.388 154.209,98.1581 155.636,116.323 157.062,135.594 159.914,176.219 162.767,217.46 164.193,237.493 165.619,256.708 \n",
       "  167.045,274.799 168.471,291.479 169.246,299.852 170.021,307.69 170.795,314.958 171.57,321.621 172.344,327.647 173.119,333.009 173.894,337.681 174.668,341.641 \n",
       "  175.443,344.871 176.218,347.356 176.992,349.083 177.767,350.046 178.541,350.239 179.316,349.661 180.091,348.316 180.865,346.209 181.64,343.35 182.414,339.753 \n",
       "  183.189,335.435 183.964,330.415 184.738,324.718 185.513,318.371 186.288,311.402 187.062,303.844 188.611,287.109 190.161,268.478 191.71,248.301 193.259,226.955 \n",
       "  196.116,185.89 198.972,144.829 200.4,125.119 201.829,106.379 203.257,88.9066 204.685,72.9807 206.113,58.8549 207.542,46.7542 208.256,41.5249 208.97,36.8715 \n",
       "  209.684,32.8125 210.398,29.3641 211.112,26.5401 211.826,24.3518 212.541,22.8077 213.255,21.9142 213.969,21.6748 214.683,22.0903 215.397,23.1593 216.111,24.8773 \n",
       "  216.877,27.4324 217.643,30.714 218.408,34.7069 219.174,39.3931 219.939,44.7509 220.705,50.7558 221.471,57.3802 222.236,64.594 223.767,80.6544 225.299,98.6429 \n",
       "  226.83,118.23 228.361,139.058 231.424,182.892 234.486,226.95 236.017,248.054 237.549,268.021 239.08,286.486 240.611,303.11 241.498,311.777 242.385,319.671 \n",
       "  243.272,326.742 244.159,332.947 245.046,338.248 245.933,342.613 246.821,346.014 247.708,348.431 248.595,349.849 249.482,350.258 250.369,349.658 251.256,348.05 \n",
       "  252.143,345.446 253.03,341.86 253.917,337.316 254.804,331.841 255.691,325.469 256.578,318.239 257.465,310.195 258.352,301.387 259.239,291.87 260.126,281.7 \n",
       "  261.013,270.943 261.9,259.662 263.674,235.813 265.449,210.74 267.223,185.059 268.997,159.399 270.573,137.125 272.15,115.798 273.727,95.8329 275.303,77.6172 \n",
       "  276.091,69.2773 276.88,61.5043 277.668,54.3359 278.456,47.807 279.245,41.9492 280.033,36.791 280.821,32.3575 281.61,28.6702 282.398,25.747 283.186,23.6021 \n",
       "  283.975,22.246 284.763,21.6852 285.551,21.9225 286.339,22.9567 287.128,24.7827 287.916,27.3918 288.704,30.7712 289.493,34.9045 290.281,39.7716 291.069,45.3489 \n",
       "  291.858,51.6093 292.646,58.5225 293.434,66.0547 294.222,74.1694 295.605,89.6872 296.988,106.642 298.37,124.782 299.753,143.835 302.518,183.534 305.283,223.378 \n",
       "  306.665,242.61 308.048,260.996 309.43,278.262 310.813,294.15 312.196,308.423 313.578,320.867 314.961,331.298 316.343,339.559 317.097,343.103 317.85,345.949 \n",
       "  318.604,348.085 319.358,349.501 320.111,350.19 320.865,350.151 321.619,349.382 322.373,347.888 323.126,345.675 323.88,342.752 324.634,339.134 325.387,334.835 \n",
       "  326.141,329.875 326.895,324.276 327.648,318.063 328.402,311.263 329.909,296.028 331.417,278.839 332.924,260.002 334.431,239.852 337.446,197.059 340.461,153.481 \n",
       "  341.977,132.241 343.493,111.966 345.01,93.0196 346.526,75.7417 347.284,67.8268 348.042,60.4428 348.8,53.6228 349.558,47.3975 350.317,41.7948 351.075,36.84 \n",
       "  351.833,32.5553 352.591,28.9599 353.349,26.07 354.107,23.8986 354.865,22.4554 355.624,21.747 356.382,21.7765 357.14,22.5437 357.898,24.0453 358.656,26.2745 \n",
       "  359.414,29.2213 360.173,32.8724 360.931,37.2114 361.689,42.2188 362.447,47.8722 363.205,54.1461 363.963,61.0123 364.721,68.44 365.56,77.2655 366.398,86.6881 \n",
       "  367.236,96.6559 368.074,107.114 369.751,129.27 371.427,152.67 374.78,201.133 378.133,248.271 378.971,259.359 379.81,270.044 380.648,280.267 381.486,289.972 \n",
       "  382.324,299.105 383.163,307.618 384.001,315.462 384.839,322.595 385.677,328.978 386.516,334.575 387.354,339.355 388.192,343.294 389.03,346.368 389.868,348.561 \n",
       "  390.707,349.862 391.545,350.262 392.342,349.804 393.14,348.532 393.938,346.452 394.735,343.574 395.533,339.912 396.33,335.485 397.128,330.314 397.925,324.425 \n",
       "  398.723,317.848 399.52,310.615 400.318,302.762 401.116,294.328 401.913,285.356 402.711,275.889 403.508,265.975 404.306,255.664 407.496,211.488 410.686,165.295 \n",
       "  412.281,142.585 413.877,120.736 415.472,100.183 417.067,81.3347 417.896,72.3346 418.725,63.9455 419.555,56.2122 420.384,49.1765 421.213,42.8761 422.042,37.345 \n",
       "  422.872,32.6127 423.701,28.7049 424.53,25.6425 425.359,23.4419 426.189,22.1149 427.018,21.6688 427.847,22.106 428.677,23.4239 429.506,25.6157 430.335,28.6694 \n",
       "  431.164,32.5688 431.994,37.2927 432.823,42.8159 433.652,49.1086 434.481,56.137 435.311,63.8634 436.14,72.2461 436.969,81.2401 438.628,100.866 440.286,122.319 \n",
       "  441.945,145.139 443.604,168.835 446.396,209.295 449.188,248.34 450.584,266.584 451.98,283.6 453.377,299.131 454.773,312.938 455.471,319.129 456.169,324.812 \n",
       "  456.867,329.967 457.565,334.572 458.263,338.612 458.961,342.07 459.659,344.934 460.357,347.192 461.055,348.835 461.753,349.858 462.451,350.257 463.15,350.03 \n",
       "  463.848,349.178 464.546,347.704 465.244,345.613 465.942,342.915 466.794,338.811 467.646,333.839 468.499,328.028 469.351,321.41 470.203,314.023 471.055,305.909 \n",
       "  471.908,297.114 472.76,287.688 474.465,267.16 476.169,244.79 477.874,221.087 479.578,196.587 481.283,171.846 482.987,147.425 484.692,123.878 486.396,101.74 \n",
       "  487.249,91.3568 488.101,81.5112 488.953,72.2587 489.805,63.6517 490.658,55.7392 491.51,48.5662 492.362,42.1733 493.214,36.5967 494.016,32.1275 494.817,28.4301 \n",
       "  495.618,25.5231 496.419,23.4212 497.22,22.1348 498.021,21.6705 498.822,22.0305 499.624,23.213 500.425,25.2122 501.226,28.018 502.027,31.6162 502.828,35.9889 \n",
       "  503.629,41.1141 504.431,46.9661 505.232,53.5155 506.033,60.7295 507.635,77.0033 509.238,95.4612 510.84,115.733 512.442,137.413 515.647,183.238 518.851,229.281 \n",
       "  520.135,246.953 521.418,263.84 522.702,279.724 523.985,294.402 525.269,307.684 526.552,319.4 527.836,329.398 529.12,337.551 530.403,343.753 531.687,347.924 \n",
       "  532.328,349.23 532.97,350.011 533.612,350.263 534.254,349.986 534.895,349.181 535.537,347.851 536.179,345.999 536.821,343.632 538.104,337.384 539.388,329.187 \n",
       "  540.671,319.147 541.955,307.394 543.238,294.077 544.522,279.369 545.805,263.459 547.089,246.552 548.372,228.865 549.656,210.625 552.223,173.434 554.79,136.885 \n",
       "  556.073,119.442 557.357,102.855 558.64,87.3378 559.924,73.0898 560.714,65.0304 561.504,57.5612 562.294,50.7186 563.084,44.536 563.874,39.0437 564.665,34.2683 \n",
       "  565.455,30.2333 \n",
       "  \"/>\n",
       "<circle clip-path=\"url(#clip8602)\" style=\"fill:#000000; stroke:none; fill-opacity:1\" cx=\"77.7773\" cy=\"44.2894\" r=\"4\"/>\n",
       "<circle clip-path=\"url(#clip8602)\" style=\"fill:#3da44d; stroke:none; fill-opacity:1\" cx=\"77.7773\" cy=\"44.2894\" r=\"3\"/>\n",
       "<circle clip-path=\"url(#clip8602)\" style=\"fill:#000000; stroke:none; fill-opacity:1\" cx=\"166.59\" cy=\"269.16\" r=\"4\"/>\n",
       "<circle clip-path=\"url(#clip8602)\" style=\"fill:#3da44d; stroke:none; fill-opacity:1\" cx=\"166.59\" cy=\"269.16\" r=\"3\"/>\n",
       "<circle clip-path=\"url(#clip8602)\" style=\"fill:#000000; stroke:none; fill-opacity:1\" cx=\"255.402\" cy=\"327.642\" r=\"4\"/>\n",
       "<circle clip-path=\"url(#clip8602)\" style=\"fill:#3da44d; stroke:none; fill-opacity:1\" cx=\"255.402\" cy=\"327.642\" r=\"3\"/>\n",
       "<circle clip-path=\"url(#clip8602)\" style=\"fill:#000000; stroke:none; fill-opacity:1\" cx=\"344.214\" cy=\"102.772\" r=\"4\"/>\n",
       "<circle clip-path=\"url(#clip8602)\" style=\"fill:#3da44d; stroke:none; fill-opacity:1\" cx=\"344.214\" cy=\"102.772\" r=\"3\"/>\n",
       "<circle clip-path=\"url(#clip8602)\" style=\"fill:#000000; stroke:none; fill-opacity:1\" cx=\"433.026\" cy=\"44.2894\" r=\"4\"/>\n",
       "<circle clip-path=\"url(#clip8602)\" style=\"fill:#3da44d; stroke:none; fill-opacity:1\" cx=\"433.026\" cy=\"44.2894\" r=\"3\"/>\n",
       "<circle clip-path=\"url(#clip8602)\" style=\"fill:#000000; stroke:none; fill-opacity:1\" cx=\"521.839\" cy=\"269.16\" r=\"4\"/>\n",
       "<circle clip-path=\"url(#clip8602)\" style=\"fill:#3da44d; stroke:none; fill-opacity:1\" cx=\"521.839\" cy=\"269.16\" r=\"3\"/>\n",
       "<polygon clip-path=\"url(#clip8600)\" points=\"\n",
       "463.182,78.051 562.315,78.051 562.315,32.691 463.182,32.691 \n",
       "  \" fill=\"#ffffff\" fill-opacity=\"1\"/>\n",
       "<polyline clip-path=\"url(#clip8600)\" style=\"stroke:#000000; stroke-width:1; stroke-opacity:1; fill:none\" points=\"\n",
       "  463.182,78.051 562.315,78.051 562.315,32.691 463.182,32.691 463.182,78.051 \n",
       "  \"/>\n",
       "<polyline clip-path=\"url(#clip8600)\" style=\"stroke:#0000ff; stroke-width:2; stroke-opacity:1; fill:none\" stroke-dasharray=\"1, 2\" points=\"\n",
       "  469.182,47.811 505.182,47.811 \n",
       "  \"/>\n",
       "<g clip-path=\"url(#clip8600)\">\n",
       "<text style=\"fill:#000000; fill-opacity:1; font-family:Arial,Helvetica Neue,Helvetica,sans-serif; font-size:12; text-anchor:start;\" transform=\"rotate(0, 511.182, 52.311)\" x=\"511.182\" y=\"52.311\">k</text>\n",
       "</g>\n",
       "<polyline clip-path=\"url(#clip8600)\" style=\"stroke:#ff0000; stroke-width:1; stroke-opacity:1; fill:none\" points=\"\n",
       "  469.182,62.931 505.182,62.931 \n",
       "  \"/>\n",
       "<g clip-path=\"url(#clip8600)\">\n",
       "<text style=\"fill:#000000; fill-opacity:1; font-family:Arial,Helvetica Neue,Helvetica,sans-serif; font-size:12; text-anchor:start;\" transform=\"rotate(0, 511.182, 67.431)\" x=\"511.182\" y=\"67.431\">k+2pi/a</text>\n",
       "</g>\n",
       "</svg>\n"
      ]
     },
     "execution_count": 118,
     "metadata": {},
     "output_type": "execute_result"
    }
   ],
   "source": [
    "m=5.5\n",
    "plot(t->f(t),-0.1,m,label=\"k\",c=\"blue\",xlabel=\"a\",ylabel=\"delta x_n\",line=(2,:dot))\n",
    "plot!(t->y(t),-0.1,m,label=\"k+2pi/a\",c=\"red\")\n",
    "scatter!([0.0,1.0,2.0,3.0,4.0,5.0],[y(0.0),y(1.0),y(2.0),y(3.0),y(4.0),y(5.0),y(6.0)],label=\"\")\n",
    "#savefig(\"ejercicio1tarea6.png\")"
   ]
  },
  {
   "cell_type": "code",
   "execution_count": 106,
   "metadata": {},
   "outputs": [
    {
     "data": {
      "text/plain": [
       "3.061616997868383e-16"
      ]
     },
     "execution_count": 106,
     "metadata": {},
     "output_type": "execute_result"
    }
   ],
   "source": [
    "y(1)"
   ]
  },
  {
   "cell_type": "code",
   "execution_count": null,
   "metadata": {},
   "outputs": [],
   "source": []
  }
 ],
 "metadata": {
  "kernelspec": {
   "display_name": "Julia 0.6.2",
   "language": "julia",
   "name": "julia-0.6"
  },
  "language_info": {
   "file_extension": ".jl",
   "mimetype": "application/julia",
   "name": "julia",
   "version": "0.6.2"
  }
 },
 "nbformat": 4,
 "nbformat_minor": 2
}
