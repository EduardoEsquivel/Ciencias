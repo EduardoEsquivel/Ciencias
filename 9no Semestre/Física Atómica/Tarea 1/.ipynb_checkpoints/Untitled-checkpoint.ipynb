{
 "cells": [
  {
   "cell_type": "code",
   "execution_count": 14,
   "metadata": {},
   "outputs": [
    {
     "data": {
      "text/plain": [
       "E1 (generic function with 1 method)"
      ]
     },
     "execution_count": 14,
     "metadata": {},
     "output_type": "execute_result"
    }
   ],
   "source": [
    "E1(λ,Ω,Δ)=Δ+λ^2*((abs(Ω)^2)/Δ)"
   ]
  },
  {
   "cell_type": "code",
   "execution_count": 2,
   "metadata": {},
   "outputs": [
    {
     "data": {
      "text/plain": [
       "E2 (generic function with 1 method)"
      ]
     },
     "execution_count": 2,
     "metadata": {},
     "output_type": "execute_result"
    }
   ],
   "source": [
    "E2(λ,Ω,Δ)=-λ^2*(abs(Ω)^2)/Δ"
   ]
  },
  {
   "cell_type": "code",
   "execution_count": 17,
   "metadata": {},
   "outputs": [
    {
     "data": {
      "text/plain": [
       "λ1 (generic function with 2 methods)"
      ]
     },
     "execution_count": 17,
     "metadata": {},
     "output_type": "execute_result"
    }
   ],
   "source": [
    "λ1(Ω,Δ)=(1/2)*(Δ-sqrt(Δ^2+4Ω^2))"
   ]
  },
  {
   "cell_type": "code",
   "execution_count": 16,
   "metadata": {},
   "outputs": [
    {
     "data": {
      "text/plain": [
       "λ2 (generic function with 1 method)"
      ]
     },
     "execution_count": 16,
     "metadata": {},
     "output_type": "execute_result"
    }
   ],
   "source": [
    "λ2(Ω,Δ)=(1/2)*(sqrt(Δ^2+4Ω^2)+Δ)"
   ]
  },
  {
   "cell_type": "code",
   "execution_count": 7,
   "metadata": {},
   "outputs": [
    {
     "data": {
      "text/plain": [
       "Plots.GRBackend()"
      ]
     },
     "execution_count": 7,
     "metadata": {},
     "output_type": "execute_result"
    }
   ],
   "source": [
    "using Plots\n",
    "gr()"
   ]
  },
  {
   "cell_type": "code",
   "execution_count": 35,
   "metadata": {},
   "outputs": [],
   "source": [
    "plot(x->E1(1e-3,1,x),-3,3,c=\"blue\",title=\"Eigenvalor E1\",label=\"E1,Omega=1\",xlabel=\"Delta\")\n",
    "plot!(x->E1(1e-3,2,x),-3,3,c=\"blue\",label=\"E1,Omega=2\")\n",
    "plot!(x->E1(1e-3,3,x),-3,3,c=\"blue\",label=\"E1,Omega=3\")\n",
    "plot!(x->E1(1e-3,4,x),-3,3,c=\"blue\",label=\"E1,Omega=4\")\n",
    "\n",
    "plot!(x->λ1(1,x),-3,3,label=\"lambda1,Omega=1\",c=\"green\")\n",
    "plot!(x->λ1(2,x),-3,3,label=\"lambda1,Omega=2\",c=\"orange\")\n",
    "plot!(x->λ1(3,x),-3,3,label=\"lambda1,Omega=3\",c=\"purple\")\n",
    "plot!(x->λ1(4,x),-3,3,label=\"lambda1,Omega=4\",c=\"red\")\n",
    "\n",
    "savefig(\"E1.png\")"
   ]
  },
  {
   "cell_type": "code",
   "execution_count": 32,
   "metadata": {},
   "outputs": [],
   "source": [
    "plot(x->E2(1e-3,1,x),-3,3,c=\"blue\",title=\"Eigenvalor E2\",label=\"E2,Omega=1\",xlabel=\"Delta\")\n",
    "plot!(x->E2(1e-3,2,x),-3,3,c=\"blue\",label=\"E2,Omega=2\")\n",
    "plot!(x->E2(1e-3,3,x),-3,3,c=\"blue\",label=\"E2,Omega=3\")\n",
    "plot!(x->E2(1e-3,4,x),-3,3,c=\"blue\",label=\"E2,Omega=4\")\n",
    "\n",
    "plot!(x->λ2(1,x),-3,3,label=\"lambda2,Omega=1\",c=\"green\")\n",
    "plot!(x->λ2(2,x),-3,3,label=\"lambda2,Omega=2\",c=\"orange\")\n",
    "plot!(x->λ2(3,x),-3,3,label=\"lambda2,Omega=3\",c=\"purple\")\n",
    "plot!(x->λ2(4,x),-3,3,label=\"lambda2,Omega=4\",c=\"red\")\n",
    "\n",
    "savefig(\"E2.png\")"
   ]
  },
  {
   "cell_type": "code",
   "execution_count": null,
   "metadata": {},
   "outputs": [],
   "source": []
  }
 ],
 "metadata": {
  "kernelspec": {
   "display_name": "Julia 0.6.2",
   "language": "julia",
   "name": "julia-0.6"
  },
  "language_info": {
   "file_extension": ".jl",
   "mimetype": "application/julia",
   "name": "julia",
   "version": "0.6.2"
  }
 },
 "nbformat": 4,
 "nbformat_minor": 2
}
